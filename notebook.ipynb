{
 "cells": [
  {
   "cell_type": "code",
   "execution_count": 1,
   "metadata": {
    "collapsed": true
   },
   "outputs": [],
   "source": [
    "from main import *"
   ]
  },
  {
   "cell_type": "code",
   "execution_count": 2,
   "outputs": [],
   "source": [
    "# Creating agent\n",
    "\n",
    "# Create a new agent\n",
    "agent = QLearningAgent()\n",
    "# Optionally load the trained q-table\n",
    "agent.load_q_table(\"q_tables/1000000.pickle\")"
   ],
   "metadata": {
    "collapsed": false
   }
  },
  {
   "cell_type": "code",
   "execution_count": 3,
   "outputs": [
    {
     "name": "stdout",
     "output_type": "stream",
     "text": [
      "1\n",
      "10\n",
      "100\n",
      "1000\n",
      "10000\n"
     ]
    },
    {
     "ename": "KeyboardInterrupt",
     "evalue": "",
     "output_type": "error",
     "traceback": [
      "\u001B[1;31m---------------------------------------------------------------------------\u001B[0m",
      "\u001B[1;31mKeyboardInterrupt\u001B[0m                         Traceback (most recent call last)",
      "Cell \u001B[1;32mIn[3], line 4\u001B[0m\n\u001B[0;32m      1\u001B[0m \u001B[38;5;66;03m# Training Example\u001B[39;00m\n\u001B[0;32m      2\u001B[0m \n\u001B[0;32m      3\u001B[0m \u001B[38;5;66;03m# The first argument is the agent we want to train, and second argument is the agent we trained against\u001B[39;00m\n\u001B[1;32m----> 4\u001B[0m \u001B[43mtrain2\u001B[49m\u001B[43m(\u001B[49m\u001B[43magent\u001B[49m\u001B[43m,\u001B[49m\u001B[43m \u001B[49m\u001B[43mQLearningAgent\u001B[49m\u001B[43m(\u001B[49m\u001B[43m)\u001B[49m\u001B[43m)\u001B[49m\n",
      "File \u001B[1;32m~\\PycharmProjects\\liar's_dice\\main.py:65\u001B[0m, in \u001B[0;36mtrain2\u001B[1;34m(agent, adversary)\u001B[0m\n\u001B[0;32m     63\u001B[0m random\u001B[38;5;241m.\u001B[39mshuffle(agent_list)\n\u001B[0;32m     64\u001B[0m game \u001B[38;5;241m=\u001B[39m Game(State(\u001B[38;5;241m2\u001B[39m, num_of_die), agent_list, \u001B[38;5;28;01mFalse\u001B[39;00m)\n\u001B[1;32m---> 65\u001B[0m \u001B[43mgame\u001B[49m\u001B[38;5;241;43m.\u001B[39;49m\u001B[43mloop\u001B[49m\u001B[43m(\u001B[49m\u001B[43m)\u001B[49m\n",
      "File \u001B[1;32m~\\PycharmProjects\\liar's_dice\\main.py:43\u001B[0m, in \u001B[0;36mGame.loop\u001B[1;34m(self)\u001B[0m\n\u001B[0;32m     41\u001B[0m     \u001B[38;5;28mprint\u001B[39m(\u001B[38;5;124m'\u001B[39m\u001B[38;5;124m----------------------\u001B[39m\u001B[38;5;124m'\u001B[39m)\n\u001B[0;32m     42\u001B[0m \u001B[38;5;28;01mwhile\u001B[39;00m \u001B[38;5;129;01mnot\u001B[39;00m \u001B[38;5;28mself\u001B[39m\u001B[38;5;241m.\u001B[39mstate\u001B[38;5;241m.\u001B[39mover():\n\u001B[1;32m---> 43\u001B[0m     \u001B[38;5;28;43mself\u001B[39;49m\u001B[38;5;241;43m.\u001B[39;49m\u001B[43mnext\u001B[49m\u001B[43m(\u001B[49m\u001B[43m)\u001B[49m\n\u001B[0;32m     44\u001B[0m     \u001B[38;5;28;01mif\u001B[39;00m \u001B[38;5;28mself\u001B[39m\u001B[38;5;241m.\u001B[39mdisplay: \u001B[38;5;28mself\u001B[39m\u001B[38;5;241m.\u001B[39mshow()\n\u001B[0;32m     45\u001B[0m \u001B[38;5;28;01mif\u001B[39;00m \u001B[38;5;28mself\u001B[39m\u001B[38;5;241m.\u001B[39mstate\u001B[38;5;241m.\u001B[39mlast_player_won():\n",
      "File \u001B[1;32m~\\PycharmProjects\\liar's_dice\\main.py:51\u001B[0m, in \u001B[0;36mGame.next\u001B[1;34m(self)\u001B[0m\n\u001B[0;32m     50\u001B[0m \u001B[38;5;28;01mdef\u001B[39;00m \u001B[38;5;21mnext\u001B[39m(\u001B[38;5;28mself\u001B[39m):\n\u001B[1;32m---> 51\u001B[0m     \u001B[38;5;28mself\u001B[39m\u001B[38;5;241m.\u001B[39mstate\u001B[38;5;241m.\u001B[39mnext(\u001B[38;5;28;43mself\u001B[39;49m\u001B[38;5;241;43m.\u001B[39;49m\u001B[43magents\u001B[49m\u001B[43m[\u001B[49m\u001B[38;5;28;43mself\u001B[39;49m\u001B[38;5;241;43m.\u001B[39;49m\u001B[43mturn\u001B[49m\u001B[43m]\u001B[49m\u001B[38;5;241;43m.\u001B[39;49m\u001B[43mget_action\u001B[49m\u001B[43m(\u001B[49m\u001B[38;5;28;43mself\u001B[39;49m\u001B[38;5;241;43m.\u001B[39;49m\u001B[43mstate\u001B[49m\u001B[43m)\u001B[49m)\n\u001B[0;32m     52\u001B[0m     \u001B[38;5;28mself\u001B[39m\u001B[38;5;241m.\u001B[39mturn \u001B[38;5;241m=\u001B[39m (\u001B[38;5;28mself\u001B[39m\u001B[38;5;241m.\u001B[39mturn \u001B[38;5;241m+\u001B[39m \u001B[38;5;241m1\u001B[39m) \u001B[38;5;241m%\u001B[39m \u001B[38;5;28mlen\u001B[39m(\u001B[38;5;28mself\u001B[39m\u001B[38;5;241m.\u001B[39mstate\u001B[38;5;241m.\u001B[39mplayers)\n",
      "File \u001B[1;32m~\\PycharmProjects\\liar's_dice\\agent.py:118\u001B[0m, in \u001B[0;36mQLearningAgent.get_action\u001B[1;34m(self, state)\u001B[0m\n\u001B[0;32m    116\u001B[0m     action \u001B[38;5;241m=\u001B[39m random\u001B[38;5;241m.\u001B[39mchoice(state\u001B[38;5;241m.\u001B[39mpossible_actions())\n\u001B[0;32m    117\u001B[0m \u001B[38;5;28;01melse\u001B[39;00m:\n\u001B[1;32m--> 118\u001B[0m     action \u001B[38;5;241m=\u001B[39m \u001B[38;5;28;43mself\u001B[39;49m\u001B[38;5;241;43m.\u001B[39;49m\u001B[43mcompute_action\u001B[49m\u001B[43m(\u001B[49m\u001B[43mstate\u001B[49m\u001B[43m)\u001B[49m\n\u001B[0;32m    119\u001B[0m new_state \u001B[38;5;241m=\u001B[39m state\u001B[38;5;241m.\u001B[39mget_next(action)\n\u001B[0;32m    120\u001B[0m \u001B[38;5;28mself\u001B[39m\u001B[38;5;241m.\u001B[39mupdate(state, action, new_state)\n",
      "File \u001B[1;32m~\\PycharmProjects\\liar's_dice\\agent.py:67\u001B[0m, in \u001B[0;36mQLearningAgent.compute_action\u001B[1;34m(self, state)\u001B[0m\n\u001B[0;32m     65\u001B[0m \u001B[38;5;28;01mdef\u001B[39;00m \u001B[38;5;21mcompute_action\u001B[39m(\u001B[38;5;28mself\u001B[39m, state):\n\u001B[0;32m     66\u001B[0m     actions \u001B[38;5;241m=\u001B[39m state\u001B[38;5;241m.\u001B[39mpossible_actions()\n\u001B[1;32m---> 67\u001B[0m     max_q \u001B[38;5;241m=\u001B[39m \u001B[38;5;28;43mself\u001B[39;49m\u001B[38;5;241;43m.\u001B[39;49m\u001B[43mget_max_q_value\u001B[49m\u001B[43m(\u001B[49m\u001B[43mstate\u001B[49m\u001B[43m)\u001B[49m\n\u001B[0;32m     68\u001B[0m     best_actions \u001B[38;5;241m=\u001B[39m []\n\u001B[0;32m     69\u001B[0m     \u001B[38;5;28;01mfor\u001B[39;00m action \u001B[38;5;129;01min\u001B[39;00m actions:\n",
      "File \u001B[1;32m~\\PycharmProjects\\liar's_dice\\agent.py:92\u001B[0m, in \u001B[0;36mQLearningAgent.get_max_q_value\u001B[1;34m(self, state)\u001B[0m\n\u001B[0;32m     90\u001B[0m max_q \u001B[38;5;241m=\u001B[39m \u001B[38;5;28mfloat\u001B[39m(\u001B[38;5;124m'\u001B[39m\u001B[38;5;124m-inf\u001B[39m\u001B[38;5;124m'\u001B[39m)\n\u001B[0;32m     91\u001B[0m \u001B[38;5;28;01mfor\u001B[39;00m action \u001B[38;5;129;01min\u001B[39;00m actions:\n\u001B[1;32m---> 92\u001B[0m     q \u001B[38;5;241m=\u001B[39m \u001B[38;5;28;43mself\u001B[39;49m\u001B[38;5;241;43m.\u001B[39;49m\u001B[43mget_q_value\u001B[49m\u001B[43m(\u001B[49m\u001B[43mstate\u001B[49m\u001B[43m,\u001B[49m\u001B[43m \u001B[49m\u001B[43maction\u001B[49m\u001B[43m)\u001B[49m\n\u001B[0;32m     93\u001B[0m     \u001B[38;5;28;01mif\u001B[39;00m q \u001B[38;5;241m>\u001B[39m max_q:\n\u001B[0;32m     94\u001B[0m         max_q \u001B[38;5;241m=\u001B[39m q\n",
      "File \u001B[1;32m~\\PycharmProjects\\liar's_dice\\agent.py:74\u001B[0m, in \u001B[0;36mQLearningAgent.get_q_value\u001B[1;34m(self, state, action)\u001B[0m\n\u001B[0;32m     71\u001B[0m             best_actions\u001B[38;5;241m.\u001B[39mappend(action)\n\u001B[0;32m     72\u001B[0m     \u001B[38;5;28;01mreturn\u001B[39;00m random\u001B[38;5;241m.\u001B[39mchoice(best_actions)\n\u001B[1;32m---> 74\u001B[0m \u001B[38;5;28;01mdef\u001B[39;00m \u001B[38;5;21mget_q_value\u001B[39m(\u001B[38;5;28mself\u001B[39m, state, action):\n\u001B[0;32m     76\u001B[0m     simple_state \u001B[38;5;241m=\u001B[39m \u001B[38;5;28mlist\u001B[39m(state\u001B[38;5;241m.\u001B[39mget_cur_player_die_count())\n\u001B[0;32m     77\u001B[0m     s_state \u001B[38;5;241m=\u001B[39m [state\u001B[38;5;241m.\u001B[39mwager_count, state\u001B[38;5;241m.\u001B[39mwager_num \u001B[38;5;241m-\u001B[39m simple_state[state\u001B[38;5;241m.\u001B[39mwager_num],\n\u001B[0;32m     78\u001B[0m                simple_state\u001B[38;5;241m.\u001B[39mindex(\u001B[38;5;28mmax\u001B[39m(simple_state))]\n",
      "\u001B[1;31mKeyboardInterrupt\u001B[0m: "
     ]
    }
   ],
   "source": [
    "# Training Example\n",
    "\n",
    "# The first argument is the agent we want to train, and second argument is the agent we trained against\n",
    "train2(agent, QLearningAgent())"
   ],
   "metadata": {
    "collapsed": false
   }
  },
  {
   "cell_type": "code",
   "execution_count": null,
   "outputs": [],
   "source": [
    "# Testing\n",
    "test(agent, ProbabilityAgent())"
   ],
   "metadata": {
    "collapsed": false
   }
  },
  {
   "cell_type": "code",
   "execution_count": null,
   "outputs": [],
   "source": [
    "# Playing against the agent we trained\n",
    "game = Game(State(2, 6), [agent, UserAgent()])\n",
    "game.loop()"
   ],
   "metadata": {
    "collapsed": false
   }
  },
  {
   "cell_type": "code",
   "execution_count": null,
   "outputs": [],
   "source": [
    "# Graph number of training vs % of winning against other agents\n",
    "graph(\"q_tables\")"
   ],
   "metadata": {
    "collapsed": false
   }
  }
 ],
 "metadata": {
  "kernelspec": {
   "display_name": "Python 3",
   "language": "python",
   "name": "python3"
  },
  "language_info": {
   "codemirror_mode": {
    "name": "ipython",
    "version": 2
   },
   "file_extension": ".py",
   "mimetype": "text/x-python",
   "name": "python",
   "nbconvert_exporter": "python",
   "pygments_lexer": "ipython2",
   "version": "2.7.6"
  }
 },
 "nbformat": 4,
 "nbformat_minor": 0
}
