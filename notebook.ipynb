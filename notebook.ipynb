{
 "cells": [
  {
   "cell_type": "code",
   "execution_count": 1,
   "metadata": {
    "collapsed": true
   },
   "outputs": [],
   "source": [
    "from main import *"
   ]
  },
  {
   "cell_type": "code",
   "execution_count": 3,
   "outputs": [
    {
     "data": {
      "text/plain": "<Figure size 640x480 with 1 Axes>",
      "image/png": "[encoded data removed]"
     },
     "metadata": {},
     "output_type": "display_data"
    }
   ],
   "source": [
    "graph(\"q_tables\")"
   ],
   "metadata": {
    "collapsed": false
   }
  },
  {
   "cell_type": "code",
   "execution_count": 3,
   "outputs": [
    {
     "name": "stdout",
     "output_type": "stream",
     "text": [
      "----------------------\n",
      "Player 0 to play\n",
      "Current state: Die face 0, count 0\n",
      "----------------------\n",
      "----------------------\n",
      "Player 0 played (5, 11)\n",
      "Player 1 to play\n",
      "Current state: Die face 5, count 11\n",
      "----------------------\n",
      "[(-1, -1)]\n",
      "----------------------\n",
      "player 1 called liar\n",
      "Current state: Die face 5, count 11\n",
      "Die: [2, 1, 2, 4, 2, 1]\n",
      "Player 0 Lost\n",
      "----------------------\n"
     ]
    },
    {
     "data": {
      "text/plain": "0"
     },
     "execution_count": 3,
     "metadata": {},
     "output_type": "execute_result"
    }
   ],
   "source": [
    "agent = QLearningAgent()\n",
    "agent.load_q_table(\"q_tables/100.pickle\")\n",
    "game = Game(State(2, 6), [agent, UserAgent()])\n",
    "game.loop()"
   ],
   "metadata": {
    "collapsed": false
   }
  },
  {
   "cell_type": "code",
   "execution_count": 6,
   "outputs": [
    {
     "name": "stdout",
     "output_type": "stream",
     "text": [
      "----------------------\n",
      "Player 0 to play\n",
      "Current state: Die face 0, count 0\n",
      "----------------------\n",
      "[-1, 0, 1, 2, 3, 4, 5]\n",
      "Unexpected exception formatting exception. Falling back to standard exception\n"
     ]
    },
    {
     "name": "stderr",
     "output_type": "stream",
     "text": [
      "Traceback (most recent call last):\n",
      "  File \"C:\\Users\\ryanc\\PycharmProjects\\liar's_dice\\venv\\lib\\site-packages\\IPython\\core\\interactiveshell.py\", line 3433, in run_code\n",
      "    exec(code_obj, self.user_global_ns, self.user_ns)\n",
      "  File \"C:\\Users\\ryanc\\AppData\\Local\\Temp\\ipykernel_7556\\122610883.py\", line 4, in <module>\n",
      "    game.loop()\n",
      "  File \"C:\\Users\\ryanc\\PycharmProjects\\liar's_dice\\main.py\", line 43, in loop\n",
      "    self.next()\n",
      "  File \"C:\\Users\\ryanc\\PycharmProjects\\liar's_dice\\main.py\", line 51, in next\n",
      "    self.state.next(self.agents[self.turn].get_action(self.state))\n",
      "  File \"C:\\Users\\ryanc\\PycharmProjects\\liar's_dice\\agent.py\", line 23, in get_action\n",
      "ValueError: invalid literal for int() with base 10: ''\n",
      "\n",
      "During handling of the above exception, another exception occurred:\n",
      "\n",
      "Traceback (most recent call last):\n",
      "  File \"C:\\Users\\ryanc\\PycharmProjects\\liar's_dice\\venv\\lib\\site-packages\\IPython\\core\\interactiveshell.py\", line 2052, in showtraceback\n",
      "    stb = self.InteractiveTB.structured_traceback(\n",
      "  File \"C:\\Users\\ryanc\\PycharmProjects\\liar's_dice\\venv\\lib\\site-packages\\IPython\\core\\ultratb.py\", line 1118, in structured_traceback\n",
      "    return FormattedTB.structured_traceback(\n",
      "  File \"C:\\Users\\ryanc\\PycharmProjects\\liar's_dice\\venv\\lib\\site-packages\\IPython\\core\\ultratb.py\", line 1012, in structured_traceback\n",
      "    return VerboseTB.structured_traceback(\n",
      "  File \"C:\\Users\\ryanc\\PycharmProjects\\liar's_dice\\venv\\lib\\site-packages\\IPython\\core\\ultratb.py\", line 865, in structured_traceback\n",
      "    formatted_exception = self.format_exception_as_a_whole(etype, evalue, etb, number_of_lines_of_context,\n",
      "  File \"C:\\Users\\ryanc\\PycharmProjects\\liar's_dice\\venv\\lib\\site-packages\\IPython\\core\\ultratb.py\", line 818, in format_exception_as_a_whole\n",
      "    frames.append(self.format_record(r))\n",
      "  File \"C:\\Users\\ryanc\\PycharmProjects\\liar's_dice\\venv\\lib\\site-packages\\IPython\\core\\ultratb.py\", line 736, in format_record\n",
      "    result += ''.join(_format_traceback_lines(frame_info.lines, Colors, self.has_colors, lvals))\n",
      "  File \"C:\\Users\\ryanc\\PycharmProjects\\liar's_dice\\venv\\lib\\site-packages\\stack_data\\utils.py\", line 144, in cached_property_wrapper\n",
      "    value = obj.__dict__[self.func.__name__] = self.func(obj)\n",
      "  File \"C:\\Users\\ryanc\\PycharmProjects\\liar's_dice\\venv\\lib\\site-packages\\stack_data\\core.py\", line 734, in lines\n",
      "    pieces = self.included_pieces\n",
      "  File \"C:\\Users\\ryanc\\PycharmProjects\\liar's_dice\\venv\\lib\\site-packages\\stack_data\\utils.py\", line 144, in cached_property_wrapper\n",
      "    value = obj.__dict__[self.func.__name__] = self.func(obj)\n",
      "  File \"C:\\Users\\ryanc\\PycharmProjects\\liar's_dice\\venv\\lib\\site-packages\\stack_data\\core.py\", line 681, in included_pieces\n",
      "    pos = scope_pieces.index(self.executing_piece)\n",
      "  File \"C:\\Users\\ryanc\\PycharmProjects\\liar's_dice\\venv\\lib\\site-packages\\stack_data\\utils.py\", line 144, in cached_property_wrapper\n",
      "    value = obj.__dict__[self.func.__name__] = self.func(obj)\n",
      "  File \"C:\\Users\\ryanc\\PycharmProjects\\liar's_dice\\venv\\lib\\site-packages\\stack_data\\core.py\", line 660, in executing_piece\n",
      "    return only(\n",
      "  File \"C:\\Users\\ryanc\\PycharmProjects\\liar's_dice\\venv\\lib\\site-packages\\executing\\executing.py\", line 190, in only\n",
      "    raise NotOneValueFound('Expected one value, found 0')\n",
      "executing.executing.NotOneValueFound: Expected one value, found 0\n"
     ]
    }
   ],
   "source": [
    "agent = QLearningAgent()\n",
    "agent.load_q_table(\"q_tables/10.pickle\")\n",
    "game = Game(State(2, 6), [UserAgent(), agent])\n",
    "game.loop()"
   ],
   "metadata": {
    "collapsed": false
   }
  },
  {
   "cell_type": "code",
   "execution_count": 7,
   "outputs": [
    {
     "data": {
      "text/plain": "0.923"
     },
     "execution_count": 7,
     "metadata": {},
     "output_type": "execute_result"
    }
   ],
   "source": [
    "num_of_die = 10\n",
    "test(ProbabilityAgent(), RandomAgent())"
   ],
   "metadata": {
    "collapsed": false
   }
  }
 ],
 "metadata": {
  "kernelspec": {
   "display_name": "Python 3",
   "language": "python",
   "name": "python3"
  },
  "language_info": {
   "codemirror_mode": {
    "name": "ipython",
    "version": 2
   },
   "file_extension": ".py",
   "mimetype": "text/x-python",
   "name": "python",
   "nbconvert_exporter": "python",
   "pygments_lexer": "ipython2",
   "version": "2.7.6"
  }
 },
 "nbformat": 4,
 "nbformat_minor": 0
}
